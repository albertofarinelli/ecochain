{
  "nbformat": 4,
  "nbformat_minor": 0,
  "metadata": {
    "colab": {
      "provenance": [],
      "authorship_tag": "ABX9TyOU3dKvvA6eaj5tzyiFMWO9",
      "include_colab_link": true
    },
    "kernelspec": {
      "name": "python3",
      "display_name": "Python 3"
    },
    "language_info": {
      "name": "python"
    }
  },
  "cells": [
    {
      "cell_type": "markdown",
      "metadata": {
        "id": "view-in-github",
        "colab_type": "text"
      },
      "source": [
        "<a href=\"https://colab.research.google.com/github/albertofarinelli/ecochain/blob/master/installa_sha256.ipynb\" target=\"_parent\"><img src=\"https://colab.research.google.com/assets/colab-badge.svg\" alt=\"Open In Colab\"/></a>"
      ]
    },
    {
      "cell_type": "code",
      "execution_count": 4,
      "metadata": {
        "colab": {
          "base_uri": "https://localhost:8080/"
        },
        "id": "FdrAm1K8opYY",
        "outputId": "d20b1468-5e9e-45bc-b620-6739226eb36d"
      },
      "outputs": [
        {
          "output_type": "stream",
          "name": "stdout",
          "text": [
            "Collecting sha256\n",
            "  Downloading sha256-1.0.tar.gz (83 kB)\n",
            "\u001b[?25l     \u001b[90m━━━━━━━━━━━━━━━━━━━━━━━━━━━━━━━━━━━━━━━━\u001b[0m \u001b[32m0.0/83.8 kB\u001b[0m \u001b[31m?\u001b[0m eta \u001b[36m-:--:--\u001b[0m\r\u001b[2K     \u001b[90m━━━━━━━━━━━━━━━━━━━━━━━━━━━━━━━━━━━━━━━━\u001b[0m \u001b[32m83.8/83.8 kB\u001b[0m \u001b[31m3.3 MB/s\u001b[0m eta \u001b[36m0:00:00\u001b[0m\n",
            "\u001b[?25h  Installing build dependencies ... \u001b[?25l\u001b[?25hdone\n",
            "  Getting requirements to build wheel ... \u001b[?25l\u001b[?25hdone\n",
            "  Preparing metadata (pyproject.toml) ... \u001b[?25l\u001b[?25hdone\n",
            "Building wheels for collected packages: sha256\n",
            "  Building wheel for sha256 (pyproject.toml) ... \u001b[?25l\u001b[?25hdone\n",
            "  Created wheel for sha256: filename=sha256-1.0-cp310-cp310-linux_x86_64.whl size=194121 sha256=cd2707c2dcac89bdde06cbe25152369173929f8ed376b58d03389485fc9d17aa\n",
            "  Stored in directory: /root/.cache/pip/wheels/f4/01/7a/ede41e7415b80078bf72559717ef0dfc9fc7ac5117059c1519\n",
            "Successfully built sha256\n",
            "Installing collected packages: sha256\n",
            "Successfully installed sha256-1.0\n"
          ]
        }
      ],
      "source": [
        "# prompt: installa libreria python sha-256\n",
        "\n",
        "!pip install sha256\n"
      ]
    },
    {
      "cell_type": "code",
      "source": [
        "print(\"milano italia\")"
      ],
      "metadata": {
        "colab": {
          "base_uri": "https://localhost:8080/"
        },
        "id": "yNzz9P7vosJL",
        "outputId": "7fcd5e06-8d03-4fb3-c12e-4c798df4690e"
      },
      "execution_count": 1,
      "outputs": [
        {
          "output_type": "stream",
          "name": "stdout",
          "text": [
            "milano italia\n"
          ]
        }
      ]
    }
  ]
}